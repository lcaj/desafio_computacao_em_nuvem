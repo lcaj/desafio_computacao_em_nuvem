{
  "nbformat": 4,
  "nbformat_minor": 0,
  "metadata": {
    "colab": {
      "provenance": []
    },
    "kernelspec": {
      "name": "python3",
      "display_name": "Python 3"
    },
    "language_info": {
      "name": "python"
    }
  },
  "cells": [
    {
      "cell_type": "code",
      "execution_count": 118,
      "metadata": {
        "colab": {
          "base_uri": "https://localhost:8080/"
        },
        "id": "AqY5vyfG1Why",
        "outputId": "738d7d58-f122-4824-8b1f-99fe19f3f743"
      },
      "outputs": [
        {
          "output_type": "stream",
          "name": "stdout",
          "text": [
            "Drive already mounted at /content/drive; to attempt to forcibly remount, call drive.mount(\"/content/drive\", force_remount=True).\n"
          ]
        }
      ],
      "source": [
        "from google.colab import drive\n",
        "drive.mount('/content/drive')"
      ]
    },
    {
      "cell_type": "code",
      "source": [
        "!pip install --upgrade pyspark"
      ],
      "metadata": {
        "colab": {
          "base_uri": "https://localhost:8080/"
        },
        "id": "xzNfHyjN2vAq",
        "outputId": "4dbb9b6f-a737-4ee2-85ca-77aaed9b0d27"
      },
      "execution_count": 119,
      "outputs": [
        {
          "output_type": "stream",
          "name": "stdout",
          "text": [
            "Requirement already satisfied: pyspark in /usr/local/lib/python3.10/dist-packages (3.5.0)\n",
            "Requirement already satisfied: py4j==0.10.9.7 in /usr/local/lib/python3.10/dist-packages (from pyspark) (0.10.9.7)\n"
          ]
        }
      ]
    },
    {
      "cell_type": "code",
      "source": [
        "import os\n",
        "import pyspark.sql.functions as F\n",
        "import pyspark.sql.types as T\n",
        "\n",
        "from pyspark.sql import SparkSession\n",
        "\n",
        "os.environ['PYSPARK_SUBMIT_ARGS'] = '\\\n",
        "    --driver-memory 2G \\\n",
        "    --executor-memory 2G \\\n",
        "    pyspark-shell'"
      ],
      "metadata": {
        "id": "is4UKRml24Kq"
      },
      "execution_count": 120,
      "outputs": []
    },
    {
      "cell_type": "code",
      "source": [
        "spark = SparkSession.builder\\\n",
        "    .master(\"local[*]\")\\\n",
        "    .getOrCreate()\n",
        "data_movie = spark.read.csv('drive/MyDrive/computacaoNuvem/movies.csv', sep=';', header=None, inferSchema=True)\n",
        "data_movie = data_movie.withColumnRenamed('_c0', 'id')\n",
        "data_movie = data_movie.withColumnRenamed('_c1', 'descricao')\n",
        "data_movie.printSchema()\n",
        "\n",
        "\n",
        "spark = SparkSession.builder\\\n",
        "    .master(\"local[*]\")\\\n",
        "    .getOrCreate()\n",
        "data_customers_rating = spark.read.csv('drive/MyDrive/computacaoNuvem/customers_rating.csv', sep=';', header=True, inferSchema=True)\n",
        "data_customers_rating.printSchema()"
      ],
      "metadata": {
        "colab": {
          "base_uri": "https://localhost:8080/"
        },
        "id": "2uIM89W_FMSR",
        "outputId": "a81734d7-9c40-4396-f532-c52793e956c8"
      },
      "execution_count": 133,
      "outputs": [
        {
          "output_type": "stream",
          "name": "stdout",
          "text": [
            "root\n",
            " |-- id: integer (nullable = true)\n",
            " |-- descricao: string (nullable = true)\n",
            "\n",
            "root\n",
            " |-- Cust_Id: integer (nullable = true)\n",
            " |-- Rating: double (nullable = true)\n",
            " |-- Date: date (nullable = true)\n",
            " |-- Movie_Id: integer (nullable = true)\n",
            "\n"
          ]
        }
      ]
    },
    {
      "cell_type": "code",
      "source": [
        "data_movie.createOrReplaceTempView(\"tab_movies\") # cria uma view = Tabela temporaria\n",
        "\n",
        "data_customers_rating.createOrReplaceTempView(\"tab_customers_rating\") # cria uma view = Tabela temporaria"
      ],
      "metadata": {
        "id": "o4E_bsSC61XQ"
      },
      "execution_count": 134,
      "outputs": []
    },
    {
      "cell_type": "code",
      "source": [
        "data_movie.show(20)"
      ],
      "metadata": {
        "colab": {
          "base_uri": "https://localhost:8080/"
        },
        "id": "iSojch6_LGlt",
        "outputId": "fae2ea69-e189-45a2-b1f8-d804bfa5abec"
      },
      "execution_count": 135,
      "outputs": [
        {
          "output_type": "stream",
          "name": "stdout",
          "text": [
            "+---+--------------------+\n",
            "| id|           descricao|\n",
            "+---+--------------------+\n",
            "|  1|(Dinosaur Planet,...|\n",
            "|  2|(Isle of Man TT 2...|\n",
            "|  3|   (Character, 1997)|\n",
            "|  4|(Paula Abdul's Ge...|\n",
            "|  5|(The Rise and Fal...|\n",
            "|  6|        (Sick, 1997)|\n",
            "|  7|       (8 Man, 1992)|\n",
            "|  8|(What the #$*! Do...|\n",
            "|  9|(Class of Nuke 'E...|\n",
            "| 10|     (Fighter, 2001)|\n",
            "| 11|(Full Frame: Docu...|\n",
            "| 12|(My Favorite Brun...|\n",
            "| 13|(Lord of the Ring...|\n",
            "| 14|(Nature: Antarcti...|\n",
            "| 15|(Neil Diamond: Gr...|\n",
            "| 16|   (Screamers, 1996)|\n",
            "| 17|   (7 Seconds, 2005)|\n",
            "| 18|(Immortal Beloved...|\n",
            "| 19|(By Dawn's Early ...|\n",
            "| 20|(Seeta Aur Geeta,...|\n",
            "+---+--------------------+\n",
            "only showing top 20 rows\n",
            "\n"
          ]
        }
      ]
    },
    {
      "cell_type": "code",
      "source": [
        "data_customers_rating.show(20)"
      ],
      "metadata": {
        "colab": {
          "base_uri": "https://localhost:8080/"
        },
        "id": "yU10rAMKYI53",
        "outputId": "c3b7e011-99b2-424e-ac05-939d32d08d45"
      },
      "execution_count": 136,
      "outputs": [
        {
          "output_type": "stream",
          "name": "stdout",
          "text": [
            "+-------+------+----------+--------+\n",
            "|Cust_Id|Rating|      Date|Movie_Id|\n",
            "+-------+------+----------+--------+\n",
            "|1488844|   3.0|2005-09-06|       1|\n",
            "| 822109|   5.0|2005-05-13|       1|\n",
            "| 885013|   4.0|2005-10-19|       1|\n",
            "|  30878|   4.0|2005-12-26|       1|\n",
            "| 823519|   3.0|2004-05-03|       1|\n",
            "| 893988|   3.0|2005-11-17|       1|\n",
            "| 124105|   4.0|2004-08-05|       1|\n",
            "|1248029|   3.0|2004-04-22|       1|\n",
            "|1842128|   4.0|2004-05-09|       1|\n",
            "|2238063|   3.0|2005-05-11|       1|\n",
            "|1503895|   4.0|2005-05-19|       1|\n",
            "|2207774|   5.0|2005-06-06|       1|\n",
            "|2590061|   3.0|2004-08-12|       1|\n",
            "|   2442|   3.0|2004-04-14|       1|\n",
            "| 543865|   4.0|2004-05-28|       1|\n",
            "|1209119|   4.0|2004-03-23|       1|\n",
            "| 804919|   4.0|2004-06-10|       1|\n",
            "|1086807|   3.0|2004-12-28|       1|\n",
            "|1711859|   4.0|2005-05-08|       1|\n",
            "| 372233|   5.0|2005-11-23|       1|\n",
            "+-------+------+----------+--------+\n",
            "only showing top 20 rows\n",
            "\n"
          ]
        }
      ]
    },
    {
      "cell_type": "markdown",
      "source": [
        "## Explorando os datasets"
      ],
      "metadata": {
        "id": "XOLdQygF64V9"
      }
    },
    {
      "cell_type": "markdown",
      "source": [
        "# 1.1Quantos filmes estão disponíveis no dataset?"
      ],
      "metadata": {
        "id": "mxSvdPhr8cER"
      }
    },
    {
      "cell_type": "code",
      "source": [
        "data_movie.count()"
      ],
      "metadata": {
        "colab": {
          "base_uri": "https://localhost:8080/"
        },
        "id": "16AEQWYm8pd4",
        "outputId": "8d7f0662-1ac4-41fa-9730-83e403d806f8"
      },
      "execution_count": 140,
      "outputs": [
        {
          "output_type": "execute_result",
          "data": {
            "text/plain": [
              "4499"
            ]
          },
          "metadata": {},
          "execution_count": 140
        }
      ]
    },
    {
      "cell_type": "markdown",
      "source": [
        "# 1.2 Qual é o nome dos 5 filmes com melhor média de avaliação?\n"
      ],
      "metadata": {
        "id": "M5WoAykg8iwb"
      }
    },
    {
      "cell_type": "code",
      "source": [
        "from pyspark.sql.functions import col, avg\n",
        "from pyspark.sql.window import Window\n",
        "from pyspark.sql.functions import rank\n",
        "\n",
        "# Realize uma junção entre os DataFrames\n",
        "joined_data = data_movie.join(data_customers_rating, data_movie[\"id\"] == data_customers_rating[\"Movie_Id\"], \"inner\")\n",
        "\n",
        "# Calcule a média de classificação para cada filme\n",
        "avg_ratings = joined_data.groupBy(\"id\", \"descricao\").agg(avg(\"Rating\").alias(\"AvgRating\"))\n",
        "\n",
        "# Crie uma janela para classificar os filmes com base na média de avaliação\n",
        "windowSpec = Window.orderBy(col(\"AvgRating\").desc())\n",
        "\n",
        "# Adicione uma coluna de classificação com base na média de avaliação\n",
        "ranked_data = avg_ratings.withColumn(\"Rank\", rank().over(windowSpec))\n",
        "\n",
        "# Selecione os 5 melhores filmes\n",
        "top_5_movies = ranked_data.filter(col(\"Rank\") <= 5)\n",
        "\n",
        "# Exiba os nomes dos 5 melhores filmes\n",
        "top_5_movies.select(\"descricao\", \"AvgRating\").show()\n"
      ],
      "metadata": {
        "colab": {
          "base_uri": "https://localhost:8080/"
        },
        "id": "d6jjW-e2dE3s",
        "outputId": "6302c82f-0b5c-43b2-a76d-b87176b38794"
      },
      "execution_count": 144,
      "outputs": [
        {
          "output_type": "stream",
          "name": "stdout",
          "text": [
            "+--------------------+------------------+\n",
            "|           descricao|         AvgRating|\n",
            "+--------------------+------------------+\n",
            "|(Lost: Season 1, ...|4.6709891019450955|\n",
            "|(Ghost in the She...| 4.586363636363636|\n",
            "|(The Simpsons: Se...| 4.581295988606693|\n",
            "|   (Inu-Yasha, 2000)| 4.554434413170473|\n",
            "|(Lord of the Ring...|             4.552|\n",
            "+--------------------+------------------+\n",
            "\n"
          ]
        }
      ]
    },
    {
      "cell_type": "markdown",
      "source": [
        "# 1.3 Quais os 9 anos com menos lançamentos de filmes?"
      ],
      "metadata": {
        "id": "SA6_k2kl8ieY"
      }
    },
    {
      "cell_type": "code",
      "source": [
        "from pyspark.sql.functions import year\n",
        "\n",
        "\n",
        "# Extrai o ano da coluna \"Date\" no DataFrame data_customers_rating\n",
        "data_customers_rating = data_customers_rating.withColumn(\"Ano\", year(data_customers_rating[\"Date\"]))\n",
        "\n",
        "# Conte quantos filmes foram lançados em cada ano\n",
        "contagem_por_ano = data_customers_rating.groupBy(\"Ano\").count()\n",
        "\n",
        "# Classifique os anos em ordem crescente de lançamentos\n",
        "anos_menos_lancamentos = contagem_por_ano.orderBy(\"count\").limit(9)\n",
        "\n",
        "# Exiba os 9 anos com menos lançamentos de filmes\n",
        "anos_menos_lancamentos.show()\n",
        "\n"
      ],
      "metadata": {
        "colab": {
          "base_uri": "https://localhost:8080/"
        },
        "id": "KfC8D56o8vV5",
        "outputId": "a6f2a26a-ee1f-4160-e0b9-48b0ab9ba2b7"
      },
      "execution_count": 147,
      "outputs": [
        {
          "output_type": "stream",
          "name": "stdout",
          "text": [
            "+----+--------+\n",
            "| Ano|   count|\n",
            "+----+--------+\n",
            "|1999|     426|\n",
            "|2000|  193255|\n",
            "|2001|  370691|\n",
            "|2002|  959548|\n",
            "|2003| 2397989|\n",
            "|2004| 7569628|\n",
            "|2005|12562227|\n",
            "+----+--------+\n",
            "\n"
          ]
        }
      ]
    },
    {
      "cell_type": "markdown",
      "source": [
        "# 1.4 Quantos filmes que possuem avaliação maior ou igual a 4.7, considerando apenas os filmes avaliados na última data de avaliação do dataset?"
      ],
      "metadata": {
        "id": "Sngx8nyR8iJ3"
      }
    },
    {
      "cell_type": "code",
      "source": [
        "from pyspark.sql.functions import max\n",
        "\n",
        "# Encontre a última data de avaliação no DataFrame data_customers_rating\n",
        "ultima_data_avaliacao = data_customers_rating.select(max(\"Date\")).collect()[0][0]\n",
        "\n",
        "# Filtrar os filmes com avaliação maior ou igual a 4.7 na última data de avaliação\n",
        "filmes_filtrados = data_customers_rating.filter((data_customers_rating[\"Date\"] == ultima_data_avaliacao) & (data_customers_rating[\"Rating\"] >= 4.7))\n",
        "\n",
        "# Conte o número de filmes que atendem aos critérios\n",
        "numero_de_filmes = filmes_filtrados.select(\"Movie_Id\").distinct().count()\n",
        "\n",
        "# Exiba o resultado\n",
        "print(\"Número de filmes com avaliação maior ou igual a 4.7 na última data de avaliação:\", numero_de_filmes)\n"
      ],
      "metadata": {
        "colab": {
          "base_uri": "https://localhost:8080/"
        },
        "id": "XOJpY6B980Nm",
        "outputId": "118f1ef6-cd10-4632-f440-4cb54f9b2c89"
      },
      "execution_count": 148,
      "outputs": [
        {
          "output_type": "stream",
          "name": "stdout",
          "text": [
            "Número de filmes com avaliação maior ou igual a 4.7 na última data de avaliação: 780\n"
          ]
        }
      ]
    },
    {
      "cell_type": "markdown",
      "source": [
        "# 1.5 Dos filmes encontrados na questão anterior, quais são os 10 filmes com as piores notas e quais as notas?"
      ],
      "metadata": {
        "id": "Ws-ekU3L8iHg"
      }
    },
    {
      "cell_type": "code",
      "source": [
        "from pyspark.sql.functions import max, col\n",
        "\n",
        "# Encontre a última data de avaliação no DataFrame data_customers_rating\n",
        "ultima_data_avaliacao = data_customers_rating.select(max(\"Date\")).collect()[0][0]\n",
        "\n",
        "# Filtrar os filmes com avaliação maior ou igual a 4.7 na última data de avaliação\n",
        "filmes_filtrados = data_customers_rating.filter((data_customers_rating[\"Date\"] == ultima_data_avaliacao) & (data_customers_rating[\"Rating\"] >= 4.7))\n",
        "\n",
        "# Ordene os filmes por nota em ordem crescente\n",
        "filmes_piores_notas = filmes_filtrados.orderBy(\"Rating\").limit(10)\n",
        "\n",
        "# Exiba os 10 filmes com as piores notas e as notas\n",
        "filmes_piores_notas.select(\"Movie_Id\", \"Rating\").show()\n"
      ],
      "metadata": {
        "colab": {
          "base_uri": "https://localhost:8080/"
        },
        "id": "ViGCyOm-850P",
        "outputId": "4d4f3b59-092e-4071-d9b0-edce9811eb06"
      },
      "execution_count": 149,
      "outputs": [
        {
          "output_type": "stream",
          "name": "stdout",
          "text": [
            "+--------+------+\n",
            "|Movie_Id|Rating|\n",
            "+--------+------+\n",
            "|    1026|   5.0|\n",
            "|    3756|   5.0|\n",
            "|    2862|   5.0|\n",
            "|    3769|   5.0|\n",
            "|    1939|   5.0|\n",
            "|    3769|   5.0|\n",
            "|    2862|   5.0|\n",
            "|    3777|   5.0|\n",
            "|       8|   5.0|\n",
            "|    3782|   5.0|\n",
            "+--------+------+\n",
            "\n"
          ]
        }
      ]
    },
    {
      "cell_type": "markdown",
      "source": [
        "# 1.6 Quais os id's dos 5 customers que mais avaliaram filmes e quantas avaliações cada um fez?"
      ],
      "metadata": {
        "id": "17Je8tIp86Lm"
      }
    },
    {
      "cell_type": "code",
      "source": [
        "from pyspark.sql.functions import count\n",
        "\n",
        "# Agrupe as avaliações por Customer ID e conte quantas avaliações cada cliente fez\n",
        "contagem_avaliacoes = data_customers_rating.groupBy(\"Cust_Id\").agg(count(\"*\").alias(\"TotalAvaliacoes\"))\n",
        "\n",
        "# Ordene os clientes por número de avaliações em ordem decrescente\n",
        "clientes_mais_avaliaram = contagem_avaliacoes.orderBy(\"TotalAvaliacoes\", ascending=False).limit(5)\n",
        "\n",
        "# Exiba os IDs dos 5 clientes que mais avaliaram e a quantidade de avaliações que cada um fez\n",
        "clientes_mais_avaliaram.show()\n"
      ],
      "metadata": {
        "colab": {
          "base_uri": "https://localhost:8080/"
        },
        "id": "p_iBSZRX89jF",
        "outputId": "3b4750bb-c65e-4d87-d456-6bce2d9a23ae"
      },
      "execution_count": 150,
      "outputs": [
        {
          "output_type": "stream",
          "name": "stdout",
          "text": [
            "+-------+---------------+\n",
            "|Cust_Id|TotalAvaliacoes|\n",
            "+-------+---------------+\n",
            "| 305344|           4467|\n",
            "| 387418|           4422|\n",
            "|2439493|           4195|\n",
            "|1664010|           4019|\n",
            "|2118461|           3769|\n",
            "+-------+---------------+\n",
            "\n"
          ]
        }
      ]
    }
  ]
}